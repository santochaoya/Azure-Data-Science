{
 "cells": [
  {
   "cell_type": "code",
   "execution_count": 6,
   "metadata": {},
   "outputs": [],
   "source": [
    "import pandas as pd\n",
    "\n",
    "from azureml.core.experiment import Experiment\n",
    "from azureml.core.workspace import Workspace"
   ]
  },
  {
   "cell_type": "code",
   "execution_count": 7,
   "metadata": {},
   "outputs": [
    {
     "name": "stderr",
     "output_type": "stream",
     "text": [
      "C:\\Users\\XIAO_M~1\\AppData\\Local\\Temp/ipykernel_1984/4150126477.py:14: FutureWarning: Passing a negative integer is deprecated in version 1.0 and will not be supported in future version. Instead, use None to not limit the column width.\n",
      "  pd.set_option('display.max_colwidth', -1)\n"
     ]
    },
    {
     "data": {
      "text/html": [
       "<div>\n",
       "<style scoped>\n",
       "    .dataframe tbody tr th:only-of-type {\n",
       "        vertical-align: middle;\n",
       "    }\n",
       "\n",
       "    .dataframe tbody tr th {\n",
       "        vertical-align: top;\n",
       "    }\n",
       "\n",
       "    .dataframe thead th {\n",
       "        text-align: right;\n",
       "    }\n",
       "</style>\n",
       "<table border=\"1\" class=\"dataframe\">\n",
       "  <thead>\n",
       "    <tr style=\"text-align: right;\">\n",
       "      <th></th>\n",
       "      <th></th>\n",
       "    </tr>\n",
       "  </thead>\n",
       "  <tbody>\n",
       "    <tr>\n",
       "      <th>Subscription ID</th>\n",
       "      <td>021242f3-4a30-44ca-82be-df4673296d1b</td>\n",
       "    </tr>\n",
       "    <tr>\n",
       "      <th>Workspace</th>\n",
       "      <td>AzML_Regression</td>\n",
       "    </tr>\n",
       "    <tr>\n",
       "      <th>Resource Group</th>\n",
       "      <td>XimeCraft_MachineLearning</td>\n",
       "    </tr>\n",
       "    <tr>\n",
       "      <th>Location</th>\n",
       "      <td>eastus2</td>\n",
       "    </tr>\n",
       "    <tr>\n",
       "      <th>Experiment Name</th>\n",
       "      <td>SDK-exercise</td>\n",
       "    </tr>\n",
       "  </tbody>\n",
       "</table>\n",
       "</div>"
      ],
      "text/plain": [
       "                                                     \n",
       "Subscription ID  021242f3-4a30-44ca-82be-df4673296d1b\n",
       "Workspace        AzML_Regression                     \n",
       "Resource Group   XimeCraft_MachineLearning           \n",
       "Location         eastus2                             \n",
       "Experiment Name  SDK-exercise                        "
      ]
     },
     "execution_count": 7,
     "metadata": {},
     "output_type": "execute_result"
    }
   ],
   "source": [
    "ws = Workspace.from_config()\n",
    "\n",
    "# choose a name for experiment\n",
    "experiment_name = 'SDK-exercise'\n",
    "\n",
    "experiment=Experiment(ws, experiment_name)\n",
    "\n",
    "output = {}\n",
    "output['Subscription ID'] = ws.subscription_id\n",
    "output['Workspace'] = ws.name\n",
    "output['Resource Group'] = ws.resource_group\n",
    "output['Location'] = ws.location\n",
    "output['Experiment Name'] = experiment.name\n",
    "pd.set_option('display.max_colwidth', -1)\n",
    "outputDf = pd.DataFrame(data = output, index = [''])\n",
    "outputDf.T"
   ]
  },
  {
   "cell_type": "markdown",
   "metadata": {},
   "source": [
    "## Experiment"
   ]
  },
  {
   "cell_type": "code",
   "execution_count": 34,
   "metadata": {},
   "outputs": [],
   "source": [
    "from azureml.widgets import RunDetails\n",
    "\n",
    "# Connect to an experiment\n",
    "experiment = Experiment(workspace=ws, name='SDK-exercise')\n",
    "\n",
    "# Start the experiment\n",
    "run = experiment.start_logging(snapshot_directory=None)"
   ]
  },
  {
   "cell_type": "code",
   "execution_count": 35,
   "metadata": {},
   "outputs": [
    {
     "data": {
      "text/plain": [
       "(414, 7)"
      ]
     },
     "execution_count": 35,
     "metadata": {},
     "output_type": "execute_result"
    }
   ],
   "source": [
    "# Exercuse the experiment\n",
    "data = pd.read_csv('../data/real_estate.csv')\n",
    "observations = data.shape[0]\n",
    "features = data.shape[1]\n",
    "observations, features"
   ]
  },
  {
   "cell_type": "code",
   "execution_count": 36,
   "metadata": {},
   "outputs": [],
   "source": [
    "# Log the row count\n",
    "run.log('observations', observations)\n",
    "run.log('features', features)"
   ]
  },
  {
   "cell_type": "code",
   "execution_count": 31,
   "metadata": {},
   "outputs": [
    {
     "data": {
      "application/vnd.jupyter.widget-view+json": {
       "model_id": "5732e96c9ee448709c57a5d913399ac7",
       "version_major": 2,
       "version_minor": 0
      },
      "text/plain": [
       "_UserRunWidget(widget_settings={'childWidgetDisplay': 'popup', 'send_telemetry': False, 'log_level': 'INFO', '…"
      ]
     },
     "metadata": {},
     "output_type": "display_data"
    },
    {
     "data": {
      "application/aml.mini.widget.v1": "{\"status\": \"Completed\", \"workbench_run_details_uri\": \"https://ml.azure.com/runs/9988ef7f-0f3a-4fc1-bcc6-c3908c1a6f8b?wsid=/subscriptions/021242f3-4a30-44ca-82be-df4673296d1b/resourcegroups/XimeCraft_MachineLearning/workspaces/AzML_Regression&tid=b41b72d0-4e9f-4c26-8a69-f949f367c91d\", \"run_id\": \"9988ef7f-0f3a-4fc1-bcc6-c3908c1a6f8b\", \"run_properties\": {\"run_id\": \"9988ef7f-0f3a-4fc1-bcc6-c3908c1a6f8b\", \"created_utc\": \"2021-11-03T06:09:41.740559Z\", \"properties\": {\"azureml.git.repository_uri\": \"https://github.com/santochaoya/Microsoft-Azure-Data-Science.git\", \"mlflow.source.git.repoURL\": \"https://github.com/santochaoya/Microsoft-Azure-Data-Science.git\", \"azureml.git.branch\": \"main\", \"mlflow.source.git.branch\": \"main\", \"azureml.git.commit\": \"dc23511397a4288bcb15324e9fcf265fa4e28bcb\", \"mlflow.source.git.commit\": \"dc23511397a4288bcb15324e9fcf265fa4e28bcb\", \"azureml.git.dirty\": \"True\"}, \"tags\": {}, \"end_time_utc\": \"2021-11-03T06:24:02.606438Z\", \"status\": \"Completed\", \"log_files\": {}, \"log_groups\": [], \"run_duration\": \"0:14:20\", \"run_number\": \"26\", \"run_queued_details\": {\"status\": \"Completed\", \"details\": null}}, \"child_runs\": [], \"children_metrics\": {}, \"run_metrics\": [{\"name\": \"observations\", \"run_id\": \"9988ef7f-0f3a-4fc1-bcc6-c3908c1a6f8b\", \"categories\": [0], \"series\": [{\"data\": [414]}]}, {\"name\": \"features\", \"run_id\": \"9988ef7f-0f3a-4fc1-bcc6-c3908c1a6f8b\", \"categories\": [0], \"series\": [{\"data\": [7]}]}], \"run_logs\": \"\\nRun is completed.\", \"graph\": {}, \"widget_settings\": {\"childWidgetDisplay\": \"popup\", \"send_telemetry\": false, \"log_level\": \"INFO\", \"sdk_version\": \"1.35.0\"}, \"loading\": false}"
     },
     "metadata": {},
     "output_type": "display_data"
    }
   ],
   "source": [
    "from azureml.widgets import RunDetails\n",
    "\n",
    "RunDetails(run).show()"
   ]
  },
  {
   "cell_type": "code",
   "execution_count": 37,
   "metadata": {},
   "outputs": [
    {
     "data": {
      "text/plain": [
       "'{\\n  \"observations\": 414,\\n  \"features\": 7\\n}'"
      ]
     },
     "execution_count": 37,
     "metadata": {},
     "output_type": "execute_result"
    }
   ],
   "source": [
    "import json\n",
    "\n",
    "\n",
    "metrics = run.get_metrics()\n",
    "json.dumps(metrics, indent=2)"
   ]
  },
  {
   "cell_type": "code",
   "execution_count": 40,
   "metadata": {},
   "outputs": [
    {
     "data": {
      "text/plain": [
       "'[\\n  \"data/sample.csv\"\\n]'"
      ]
     },
     "execution_count": 40,
     "metadata": {},
     "output_type": "execute_result"
    }
   ],
   "source": [
    "run.upload_file(name='data/sample.csv', path_or_stream='../data/real_estate.csv')\n",
    "\n",
    "files = run.get_file_names()\n",
    "json.dumps(files, indent=2)"
   ]
  },
  {
   "cell_type": "code",
   "execution_count": 41,
   "metadata": {},
   "outputs": [],
   "source": [
    "run.complete()"
   ]
  },
  {
   "cell_type": "code",
   "execution_count": 45,
   "metadata": {},
   "outputs": [
    {
     "name": "stdout",
     "output_type": "stream",
     "text": [
      "Attempted to log scalar metric observations:\n",
      "414\n"
     ]
    }
   ],
   "source": [
    "from azureml.core import Run\n",
    "import pandas as pd\n",
    "\n",
    "\n",
    "run = Run.get_context()\n",
    "\n",
    "# get the sample data\n",
    "data = pd.read_csv('../data/real_estate.csv')\n",
    "observations = data.shape[0]\n",
    "\n",
    "# log the observations metric\n",
    "run.log('observations', observations)\n",
    "\n",
    "data.iloc[100, :].to_csv('../outputs/samples.csv', index=False, header=True)\n",
    "\n",
    "# Complete the experiment\n",
    "run.complete()"
   ]
  },
  {
   "cell_type": "markdown",
   "metadata": {},
   "source": [
    "## Run a script as an Experiment"
   ]
  },
  {
   "cell_type": "code",
   "execution_count": null,
   "metadata": {},
   "outputs": [],
   "source": [
    "from azureml.core import Experiment, ScriptRunConfig\n",
    "\n",
    "script_config = ScriptRunConfig(source_directory='../src', \n",
    "\t\t\t\t\t\t\t\tscript='expeiment_files.py')\n",
    "\n",
    "# submit the experiment\n",
    "experiment = Experiment(workspace=ws, name='SDK-exercise')\n",
    "run = experiment.submit(script_config)\n",
    "run.wait_for_complete(show_output=True)"
   ]
  }
 ],
 "metadata": {
  "interpreter": {
   "hash": "74ff874f87fa719aced6741ff77470c1a391a0c0da0a21ca4e1f25bb7b04c291"
  },
  "kernelspec": {
   "display_name": "Python 3.8.10 64-bit",
   "name": "python3"
  },
  "language_info": {
   "codemirror_mode": {
    "name": "ipython",
    "version": 3
   },
   "file_extension": ".py",
   "mimetype": "text/x-python",
   "name": "python",
   "nbconvert_exporter": "python",
   "pygments_lexer": "ipython3",
   "version": "3.8.10"
  },
  "orig_nbformat": 4
 },
 "nbformat": 4,
 "nbformat_minor": 2
}

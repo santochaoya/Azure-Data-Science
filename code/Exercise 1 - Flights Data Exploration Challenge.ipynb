{
 "cells": [
  {
   "cell_type": "markdown",
   "metadata": {
    "collapsed": true,
    "pycharm": {
     "name": "#%% md\n"
    }
   },
   "source": [
    "# Flights Data Exploration Challenge\n",
    "In this challenge, you'll explore a real-world dataset containing flights data from the US Department of Transportation.\n",
    "\n",
    "Let's start by loading and viewing the data."
   ]
  },
  {
   "cell_type": "code",
   "execution_count": 1,
   "outputs": [
    {
     "data": {
      "text/plain": "   Year  Month  DayofMonth  DayOfWeek Carrier  OriginAirportID  \\\n0  2013      9          16          1      DL            15304   \n1  2013      9          23          1      WN            14122   \n2  2013      9           7          6      AS            14747   \n3  2013      7          22          1      OO            13930   \n4  2013      5          16          4      DL            13931   \n\n              OriginAirportName  OriginCity OriginState  DestAirportID  \\\n0           Tampa International       Tampa          FL          12478   \n1      Pittsburgh International  Pittsburgh          PA          13232   \n2  Seattle/Tacoma International     Seattle          WA          11278   \n3  Chicago O'Hare International     Chicago          IL          11042   \n4         Norfolk International     Norfolk          VA          10397   \n\n                            DestAirportName    DestCity DestState  CRSDepTime  \\\n0             John F. Kennedy International    New York        NY        1539   \n1              Chicago Midway International     Chicago        IL         710   \n2         Ronald Reagan Washington National  Washington        DC         810   \n3           Cleveland-Hopkins International   Cleveland        OH         804   \n4  Hartsfield-Jackson Atlanta International     Atlanta        GA         545   \n\n   DepDelay  DepDel15  CRSArrTime  ArrDelay  ArrDel15  Cancelled  \n0         4       0.0        1824        13         0          0  \n1         3       0.0         740        22         1          0  \n2        -3       0.0        1614        -7         0          0  \n3        35       1.0        1027        33         1          0  \n4        -1       0.0         728        -9         0          0  ",
      "text/html": "<div>\n<style scoped>\n    .dataframe tbody tr th:only-of-type {\n        vertical-align: middle;\n    }\n\n    .dataframe tbody tr th {\n        vertical-align: top;\n    }\n\n    .dataframe thead th {\n        text-align: right;\n    }\n</style>\n<table border=\"1\" class=\"dataframe\">\n  <thead>\n    <tr style=\"text-align: right;\">\n      <th></th>\n      <th>Year</th>\n      <th>Month</th>\n      <th>DayofMonth</th>\n      <th>DayOfWeek</th>\n      <th>Carrier</th>\n      <th>OriginAirportID</th>\n      <th>OriginAirportName</th>\n      <th>OriginCity</th>\n      <th>OriginState</th>\n      <th>DestAirportID</th>\n      <th>DestAirportName</th>\n      <th>DestCity</th>\n      <th>DestState</th>\n      <th>CRSDepTime</th>\n      <th>DepDelay</th>\n      <th>DepDel15</th>\n      <th>CRSArrTime</th>\n      <th>ArrDelay</th>\n      <th>ArrDel15</th>\n      <th>Cancelled</th>\n    </tr>\n  </thead>\n  <tbody>\n    <tr>\n      <th>0</th>\n      <td>2013</td>\n      <td>9</td>\n      <td>16</td>\n      <td>1</td>\n      <td>DL</td>\n      <td>15304</td>\n      <td>Tampa International</td>\n      <td>Tampa</td>\n      <td>FL</td>\n      <td>12478</td>\n      <td>John F. Kennedy International</td>\n      <td>New York</td>\n      <td>NY</td>\n      <td>1539</td>\n      <td>4</td>\n      <td>0.0</td>\n      <td>1824</td>\n      <td>13</td>\n      <td>0</td>\n      <td>0</td>\n    </tr>\n    <tr>\n      <th>1</th>\n      <td>2013</td>\n      <td>9</td>\n      <td>23</td>\n      <td>1</td>\n      <td>WN</td>\n      <td>14122</td>\n      <td>Pittsburgh International</td>\n      <td>Pittsburgh</td>\n      <td>PA</td>\n      <td>13232</td>\n      <td>Chicago Midway International</td>\n      <td>Chicago</td>\n      <td>IL</td>\n      <td>710</td>\n      <td>3</td>\n      <td>0.0</td>\n      <td>740</td>\n      <td>22</td>\n      <td>1</td>\n      <td>0</td>\n    </tr>\n    <tr>\n      <th>2</th>\n      <td>2013</td>\n      <td>9</td>\n      <td>7</td>\n      <td>6</td>\n      <td>AS</td>\n      <td>14747</td>\n      <td>Seattle/Tacoma International</td>\n      <td>Seattle</td>\n      <td>WA</td>\n      <td>11278</td>\n      <td>Ronald Reagan Washington National</td>\n      <td>Washington</td>\n      <td>DC</td>\n      <td>810</td>\n      <td>-3</td>\n      <td>0.0</td>\n      <td>1614</td>\n      <td>-7</td>\n      <td>0</td>\n      <td>0</td>\n    </tr>\n    <tr>\n      <th>3</th>\n      <td>2013</td>\n      <td>7</td>\n      <td>22</td>\n      <td>1</td>\n      <td>OO</td>\n      <td>13930</td>\n      <td>Chicago O'Hare International</td>\n      <td>Chicago</td>\n      <td>IL</td>\n      <td>11042</td>\n      <td>Cleveland-Hopkins International</td>\n      <td>Cleveland</td>\n      <td>OH</td>\n      <td>804</td>\n      <td>35</td>\n      <td>1.0</td>\n      <td>1027</td>\n      <td>33</td>\n      <td>1</td>\n      <td>0</td>\n    </tr>\n    <tr>\n      <th>4</th>\n      <td>2013</td>\n      <td>5</td>\n      <td>16</td>\n      <td>4</td>\n      <td>DL</td>\n      <td>13931</td>\n      <td>Norfolk International</td>\n      <td>Norfolk</td>\n      <td>VA</td>\n      <td>10397</td>\n      <td>Hartsfield-Jackson Atlanta International</td>\n      <td>Atlanta</td>\n      <td>GA</td>\n      <td>545</td>\n      <td>-1</td>\n      <td>0.0</td>\n      <td>728</td>\n      <td>-9</td>\n      <td>0</td>\n      <td>0</td>\n    </tr>\n  </tbody>\n</table>\n</div>"
     },
     "execution_count": 1,
     "metadata": {},
     "output_type": "execute_result"
    }
   ],
   "source": [
    "import pandas as pd\n",
    "\n",
    "df_flights = pd.read_csv('../data/flights.csv')\n",
    "df_flights.head()"
   ],
   "metadata": {
    "collapsed": false,
    "pycharm": {
     "name": "#%%\n"
    }
   }
  },
  {
   "cell_type": "markdown",
   "source": [
    "The dataset contains observations of US domestic flights in 2013, and consists of the following fields:\n",
    "\n",
    "**Year**: The year of the flight (all records are from 2013)\n",
    "**Month**: The month of the flight\n",
    "**DayofMonth**: The day of the month on which the flight departed\n",
    "**DayOfWeek**: The day of the week on which the flight departed - from 1 (Monday) to 7 (Sunday)\n",
    "**Carrier**: The two-letter abbreviation for the airline.\n",
    "**OriginAirportID**: A unique numeric identifier for the departure airport\n",
    "**OriginAirportName**: The full name of the departure airport\n",
    "**OriginCity**: The departure airport city\n",
    "**OriginState**: The departure airport state\n",
    "**DestAirportID**: A unique numeric identifier for the destination airport\n",
    "**DestAirportName**: The full name of the destination airport\n",
    "**DestCity**: The destination airport city\n",
    "**DestState**: The destination airport state\n",
    "**CRSDepTime**: The scheduled departure time\n",
    "**DepDelay**: The number of minutes departure was delayed (flight that left ahead of schedule have a negative value)\n",
    "**DelDelay15**: A binary indicator that departure was delayed by more than 15 minutes (and therefore considered \"late\")\n",
    "**CRSArrTime**: The scheduled arrival time\n",
    "**ArrDelay**: The number of minutes arrival was delayed (flight that arrived ahead of schedule have a negative value)\n",
    "**ArrDelay15**: A binary indicator that arrival was delayed by more than 15 minutes (and therefore considered \"late\")\n",
    "**Cancelled**: A binary indicator that the flight was cancelled\n",
    "\n",
    "Your challenge is to explore the flight data to analyze possible factors that affect delays in departure or arrival of a flight.\n",
    "\n",
    "1. Start by cleaning the data.\n",
    "    * Identify any null or missing data, and impute appropriate replacement values.\n",
    "    * Identify and eliminate any outliers in the DepDelay and ArrDelay columns.\n",
    "\n",
    "---\n",
    "### 0. Preparation"
   ],
   "metadata": {
    "collapsed": false,
    "pycharm": {
     "name": "#%% md\n"
    }
   }
  },
  {
   "cell_type": "code",
   "execution_count": null,
   "outputs": [],
   "source": [
    "import pandas as pd\n",
    "import matplotlib.pyplot as plt\n",
    "import numpy as np"
   ],
   "metadata": {
    "collapsed": false,
    "pycharm": {
     "name": "#%%\n",
     "is_executing": true
    }
   }
  },
  {
   "cell_type": "markdown",
   "source": [
    "### 1. Missing value"
   ],
   "metadata": {
    "collapsed": false,
    "pycharm": {
     "name": "#%% md\n"
    }
   }
  },
  {
   "cell_type": "code",
   "source": [
    "# Identify any null or missing columns\n",
    "df_flights.isnull().sum()"
   ],
   "metadata": {
    "collapsed": false,
    "pycharm": {
     "name": "#%%\n"
    }
   },
   "execution_count": 2,
   "outputs": [
    {
     "data": {
      "text/plain": "Year                    0\nMonth                   0\nDayofMonth              0\nDayOfWeek               0\nCarrier                 0\nOriginAirportID         0\nOriginAirportName       0\nOriginCity              0\nOriginState             0\nDestAirportID           0\nDestAirportName         0\nDestCity                0\nDestState               0\nCRSDepTime              0\nDepDelay                0\nDepDel15             2761\nCRSArrTime              0\nArrDelay                0\nArrDel15                0\nCancelled               0\ndtype: int64"
     },
     "execution_count": 2,
     "metadata": {},
     "output_type": "execute_result"
    }
   ]
  },
  {
   "cell_type": "code",
   "execution_count": 3,
   "outputs": [
    {
     "data": {
      "text/plain": "171      NaN\n359      NaN\n429      NaN\n545      NaN\n554      NaN\n          ..\n271410   NaN\n271607   NaN\n271634   NaN\n271671   NaN\n271885   NaN\nName: DepDel15, Length: 2761, dtype: float64"
     },
     "execution_count": 3,
     "metadata": {},
     "output_type": "execute_result"
    }
   ],
   "source": [
    "# Identify rows contains null or missing value\n",
    "df_flights[df_flights.isnull().any(axis=1)]['DepDel15']"
   ],
   "metadata": {
    "collapsed": false,
    "pycharm": {
     "name": "#%%\n"
    }
   }
  },
  {
   "cell_type": "code",
   "execution_count": 4,
   "outputs": [
    {
     "data": {
      "text/plain": "Year                 0\nMonth                0\nDayofMonth           0\nDayOfWeek            0\nCarrier              0\nOriginAirportID      0\nOriginAirportName    0\nOriginCity           0\nOriginState          0\nDestAirportID        0\nDestAirportName      0\nDestCity             0\nDestState            0\nCRSDepTime           0\nDepDelay             0\nDepDel15             0\nCRSArrTime           0\nArrDelay             0\nArrDel15             0\nCancelled            0\ndtype: int64"
     },
     "execution_count": 4,
     "metadata": {},
     "output_type": "execute_result"
    }
   ],
   "source": [
    "# replace missing value of DepDel15 to 0.0\n",
    "df_flights['DepDel15'] = df_flights['DepDel15'].fillna(0.0)\n",
    "df_flights.isnull().sum()"
   ],
   "metadata": {
    "collapsed": false,
    "pycharm": {
     "name": "#%%\n"
    }
   }
  },
  {
   "cell_type": "markdown",
   "source": [
    "### 2. Clean Outliers\n",
    "\n",
    "Get the distribution of data"
   ],
   "metadata": {
    "collapsed": false,
    "pycharm": {
     "name": "#%% md\n"
    }
   }
  },
  {
   "cell_type": "code",
   "execution_count": null,
   "outputs": [
    {
     "name": "stdout",
     "output_type": "stream",
     "text": [
      "=====================\n"
     ]
    },
    {
     "ename": "KeyboardInterrupt",
     "evalue": "",
     "output_type": "error",
     "traceback": [
      "\u001B[1;31m---------------------------------------------------------------------------\u001B[0m",
      "\u001B[1;31mKeyboardInterrupt\u001B[0m                         Traceback (most recent call last)",
      "\u001B[1;32mC:\\Users\\XIAO_M~1\\AppData\\Local\\Temp/ipykernel_9916/1857148476.py\u001B[0m in \u001B[0;36m<module>\u001B[1;34m\u001B[0m\n\u001B[0;32m      7\u001B[0m \u001B[1;33m\u001B[0m\u001B[0m\n\u001B[0;32m      8\u001B[0m     \u001B[1;31m# plot the distribution\u001B[0m\u001B[1;33m\u001B[0m\u001B[1;33m\u001B[0m\u001B[1;33m\u001B[0m\u001B[0m\n\u001B[1;32m----> 9\u001B[1;33m     \u001B[0mshow_distribution\u001B[0m\u001B[1;33m(\u001B[0m\u001B[0mdf_flights\u001B[0m\u001B[1;33m[\u001B[0m\u001B[0mfeature\u001B[0m\u001B[1;33m]\u001B[0m\u001B[1;33m)\u001B[0m\u001B[1;33m\u001B[0m\u001B[1;33m\u001B[0m\u001B[0m\n\u001B[0m\u001B[0;32m     10\u001B[0m \u001B[1;33m\u001B[0m\u001B[0m\n\u001B[0;32m     11\u001B[0m     \u001B[1;31m# exclude outliers\u001B[0m\u001B[1;33m\u001B[0m\u001B[1;33m\u001B[0m\u001B[1;33m\u001B[0m\u001B[0m\n",
      "\u001B[1;32m~\\OneDrive - EPAM\\Projects\\Tutorial\\Microsoft-Azure-Data-Science\\code\\shared_code\\utils.py\u001B[0m in \u001B[0;36mshow_distribution\u001B[1;34m(feature)\u001B[0m\n\u001B[0;32m     24\u001B[0m     \u001B[1;31m#     )\u001B[0m\u001B[1;33m\u001B[0m\u001B[1;33m\u001B[0m\u001B[1;33m\u001B[0m\u001B[0m\n\u001B[0;32m     25\u001B[0m \u001B[1;33m\u001B[0m\u001B[0m\n\u001B[1;32m---> 26\u001B[1;33m     \u001B[1;32mfor\u001B[0m \u001B[0mmetric\u001B[0m \u001B[1;32min\u001B[0m \u001B[0mmetrics\u001B[0m\u001B[1;33m:\u001B[0m\u001B[1;33m\u001B[0m\u001B[1;33m\u001B[0m\u001B[0m\n\u001B[0m\u001B[0;32m     27\u001B[0m         \u001B[1;32mif\u001B[0m \u001B[1;34m'min'\u001B[0m \u001B[1;32min\u001B[0m \u001B[0mmetric\u001B[0m\u001B[1;33m:\u001B[0m\u001B[1;33m\u001B[0m\u001B[1;33m\u001B[0m\u001B[0m\n\u001B[0;32m     28\u001B[0m             \u001B[0mfigure\u001B[0m\u001B[1;33m.\u001B[0m\u001B[0maxvline\u001B[0m\u001B[1;33m(\u001B[0m\u001B[0mx\u001B[0m\u001B[1;33m=\u001B[0m\u001B[0mfeature\u001B[0m\u001B[1;33m.\u001B[0m\u001B[0mmin\u001B[0m\u001B[1;33m(\u001B[0m\u001B[1;33m)\u001B[0m\u001B[1;33m,\u001B[0m \u001B[0mcolor\u001B[0m\u001B[1;33m=\u001B[0m\u001B[1;34m'gray'\u001B[0m\u001B[1;33m,\u001B[0m \u001B[0mlinestyle\u001B[0m\u001B[1;33m=\u001B[0m\u001B[1;34m'dashed'\u001B[0m\u001B[1;33m,\u001B[0m \u001B[0mlinewidth\u001B[0m\u001B[1;33m=\u001B[0m\u001B[1;36m2\u001B[0m\u001B[1;33m)\u001B[0m\u001B[1;33m\u001B[0m\u001B[1;33m\u001B[0m\u001B[0m\n",
      "\u001B[1;32mc:\\users\\xiao_meng\\appdata\\local\\programs\\python\\python38\\lib\\site-packages\\pandas\\core\\generic.py\u001B[0m in \u001B[0;36mmean\u001B[1;34m(self, axis, skipna, level, numeric_only, **kwargs)\u001B[0m\n\u001B[0;32m  10749\u001B[0m         )\n\u001B[0;32m  10750\u001B[0m         \u001B[1;32mdef\u001B[0m \u001B[0mmean\u001B[0m\u001B[1;33m(\u001B[0m\u001B[0mself\u001B[0m\u001B[1;33m,\u001B[0m \u001B[0maxis\u001B[0m\u001B[1;33m=\u001B[0m\u001B[1;32mNone\u001B[0m\u001B[1;33m,\u001B[0m \u001B[0mskipna\u001B[0m\u001B[1;33m=\u001B[0m\u001B[1;32mNone\u001B[0m\u001B[1;33m,\u001B[0m \u001B[0mlevel\u001B[0m\u001B[1;33m=\u001B[0m\u001B[1;32mNone\u001B[0m\u001B[1;33m,\u001B[0m \u001B[0mnumeric_only\u001B[0m\u001B[1;33m=\u001B[0m\u001B[1;32mNone\u001B[0m\u001B[1;33m,\u001B[0m \u001B[1;33m**\u001B[0m\u001B[0mkwargs\u001B[0m\u001B[1;33m)\u001B[0m\u001B[1;33m:\u001B[0m\u001B[1;33m\u001B[0m\u001B[1;33m\u001B[0m\u001B[0m\n\u001B[1;32m> 10751\u001B[1;33m             \u001B[1;32mreturn\u001B[0m \u001B[0mNDFrame\u001B[0m\u001B[1;33m.\u001B[0m\u001B[0mmean\u001B[0m\u001B[1;33m(\u001B[0m\u001B[0mself\u001B[0m\u001B[1;33m,\u001B[0m \u001B[0maxis\u001B[0m\u001B[1;33m,\u001B[0m \u001B[0mskipna\u001B[0m\u001B[1;33m,\u001B[0m \u001B[0mlevel\u001B[0m\u001B[1;33m,\u001B[0m \u001B[0mnumeric_only\u001B[0m\u001B[1;33m,\u001B[0m \u001B[1;33m**\u001B[0m\u001B[0mkwargs\u001B[0m\u001B[1;33m)\u001B[0m\u001B[1;33m\u001B[0m\u001B[1;33m\u001B[0m\u001B[0m\n\u001B[0m\u001B[0;32m  10752\u001B[0m \u001B[1;33m\u001B[0m\u001B[0m\n\u001B[0;32m  10753\u001B[0m         \u001B[0msetattr\u001B[0m\u001B[1;33m(\u001B[0m\u001B[0mcls\u001B[0m\u001B[1;33m,\u001B[0m \u001B[1;34m\"mean\"\u001B[0m\u001B[1;33m,\u001B[0m \u001B[0mmean\u001B[0m\u001B[1;33m)\u001B[0m\u001B[1;33m\u001B[0m\u001B[1;33m\u001B[0m\u001B[0m\n",
      "\u001B[1;32mc:\\users\\xiao_meng\\appdata\\local\\programs\\python\\python38\\lib\\site-packages\\pandas\\core\\generic.py\u001B[0m in \u001B[0;36mmean\u001B[1;34m(self, axis, skipna, level, numeric_only, **kwargs)\u001B[0m\n\u001B[0;32m  10367\u001B[0m \u001B[1;33m\u001B[0m\u001B[0m\n\u001B[0;32m  10368\u001B[0m     \u001B[1;32mdef\u001B[0m \u001B[0mmean\u001B[0m\u001B[1;33m(\u001B[0m\u001B[0mself\u001B[0m\u001B[1;33m,\u001B[0m \u001B[0maxis\u001B[0m\u001B[1;33m=\u001B[0m\u001B[1;32mNone\u001B[0m\u001B[1;33m,\u001B[0m \u001B[0mskipna\u001B[0m\u001B[1;33m=\u001B[0m\u001B[1;32mNone\u001B[0m\u001B[1;33m,\u001B[0m \u001B[0mlevel\u001B[0m\u001B[1;33m=\u001B[0m\u001B[1;32mNone\u001B[0m\u001B[1;33m,\u001B[0m \u001B[0mnumeric_only\u001B[0m\u001B[1;33m=\u001B[0m\u001B[1;32mNone\u001B[0m\u001B[1;33m,\u001B[0m \u001B[1;33m**\u001B[0m\u001B[0mkwargs\u001B[0m\u001B[1;33m)\u001B[0m\u001B[1;33m:\u001B[0m\u001B[1;33m\u001B[0m\u001B[1;33m\u001B[0m\u001B[0m\n\u001B[1;32m> 10369\u001B[1;33m         return self._stat_function(\n\u001B[0m\u001B[0;32m  10370\u001B[0m             \u001B[1;34m\"mean\"\u001B[0m\u001B[1;33m,\u001B[0m \u001B[0mnanops\u001B[0m\u001B[1;33m.\u001B[0m\u001B[0mnanmean\u001B[0m\u001B[1;33m,\u001B[0m \u001B[0maxis\u001B[0m\u001B[1;33m,\u001B[0m \u001B[0mskipna\u001B[0m\u001B[1;33m,\u001B[0m \u001B[0mlevel\u001B[0m\u001B[1;33m,\u001B[0m \u001B[0mnumeric_only\u001B[0m\u001B[1;33m,\u001B[0m \u001B[1;33m**\u001B[0m\u001B[0mkwargs\u001B[0m\u001B[1;33m\u001B[0m\u001B[1;33m\u001B[0m\u001B[0m\n\u001B[0;32m  10371\u001B[0m         )\n",
      "\u001B[1;32mc:\\users\\xiao_meng\\appdata\\local\\programs\\python\\python38\\lib\\site-packages\\pandas\\core\\generic.py\u001B[0m in \u001B[0;36m_stat_function\u001B[1;34m(self, name, func, axis, skipna, level, numeric_only, **kwargs)\u001B[0m\n\u001B[0;32m  10352\u001B[0m                 \u001B[0mname\u001B[0m\u001B[1;33m,\u001B[0m \u001B[0maxis\u001B[0m\u001B[1;33m=\u001B[0m\u001B[0maxis\u001B[0m\u001B[1;33m,\u001B[0m \u001B[0mlevel\u001B[0m\u001B[1;33m=\u001B[0m\u001B[0mlevel\u001B[0m\u001B[1;33m,\u001B[0m \u001B[0mskipna\u001B[0m\u001B[1;33m=\u001B[0m\u001B[0mskipna\u001B[0m\u001B[1;33m,\u001B[0m \u001B[0mnumeric_only\u001B[0m\u001B[1;33m=\u001B[0m\u001B[0mnumeric_only\u001B[0m\u001B[1;33m\u001B[0m\u001B[1;33m\u001B[0m\u001B[0m\n\u001B[0;32m  10353\u001B[0m             )\n\u001B[1;32m> 10354\u001B[1;33m         return self._reduce(\n\u001B[0m\u001B[0;32m  10355\u001B[0m             \u001B[0mfunc\u001B[0m\u001B[1;33m,\u001B[0m \u001B[0mname\u001B[0m\u001B[1;33m=\u001B[0m\u001B[0mname\u001B[0m\u001B[1;33m,\u001B[0m \u001B[0maxis\u001B[0m\u001B[1;33m=\u001B[0m\u001B[0maxis\u001B[0m\u001B[1;33m,\u001B[0m \u001B[0mskipna\u001B[0m\u001B[1;33m=\u001B[0m\u001B[0mskipna\u001B[0m\u001B[1;33m,\u001B[0m \u001B[0mnumeric_only\u001B[0m\u001B[1;33m=\u001B[0m\u001B[0mnumeric_only\u001B[0m\u001B[1;33m\u001B[0m\u001B[1;33m\u001B[0m\u001B[0m\n\u001B[0;32m  10356\u001B[0m         )\n",
      "\u001B[1;32mc:\\users\\xiao_meng\\appdata\\local\\programs\\python\\python38\\lib\\site-packages\\pandas\\core\\series.py\u001B[0m in \u001B[0;36m_reduce\u001B[1;34m(self, op, name, axis, skipna, numeric_only, filter_type, **kwds)\u001B[0m\n\u001B[0;32m   4390\u001B[0m                 )\n\u001B[0;32m   4391\u001B[0m             \u001B[1;32mwith\u001B[0m \u001B[0mnp\u001B[0m\u001B[1;33m.\u001B[0m\u001B[0merrstate\u001B[0m\u001B[1;33m(\u001B[0m\u001B[0mall\u001B[0m\u001B[1;33m=\u001B[0m\u001B[1;34m\"ignore\"\u001B[0m\u001B[1;33m)\u001B[0m\u001B[1;33m:\u001B[0m\u001B[1;33m\u001B[0m\u001B[1;33m\u001B[0m\u001B[0m\n\u001B[1;32m-> 4392\u001B[1;33m                 \u001B[1;32mreturn\u001B[0m \u001B[0mop\u001B[0m\u001B[1;33m(\u001B[0m\u001B[0mdelegate\u001B[0m\u001B[1;33m,\u001B[0m \u001B[0mskipna\u001B[0m\u001B[1;33m=\u001B[0m\u001B[0mskipna\u001B[0m\u001B[1;33m,\u001B[0m \u001B[1;33m**\u001B[0m\u001B[0mkwds\u001B[0m\u001B[1;33m)\u001B[0m\u001B[1;33m\u001B[0m\u001B[1;33m\u001B[0m\u001B[0m\n\u001B[0m\u001B[0;32m   4393\u001B[0m \u001B[1;33m\u001B[0m\u001B[0m\n\u001B[0;32m   4394\u001B[0m     def _reindex_indexer(\n",
      "\u001B[1;32mc:\\users\\xiao_meng\\appdata\\local\\programs\\python\\python38\\lib\\site-packages\\pandas\\core\\nanops.py\u001B[0m in \u001B[0;36m_f\u001B[1;34m(*args, **kwargs)\u001B[0m\n\u001B[0;32m     91\u001B[0m             \u001B[1;32mtry\u001B[0m\u001B[1;33m:\u001B[0m\u001B[1;33m\u001B[0m\u001B[1;33m\u001B[0m\u001B[0m\n\u001B[0;32m     92\u001B[0m                 \u001B[1;32mwith\u001B[0m \u001B[0mnp\u001B[0m\u001B[1;33m.\u001B[0m\u001B[0merrstate\u001B[0m\u001B[1;33m(\u001B[0m\u001B[0minvalid\u001B[0m\u001B[1;33m=\u001B[0m\u001B[1;34m\"ignore\"\u001B[0m\u001B[1;33m)\u001B[0m\u001B[1;33m:\u001B[0m\u001B[1;33m\u001B[0m\u001B[1;33m\u001B[0m\u001B[0m\n\u001B[1;32m---> 93\u001B[1;33m                     \u001B[1;32mreturn\u001B[0m \u001B[0mf\u001B[0m\u001B[1;33m(\u001B[0m\u001B[1;33m*\u001B[0m\u001B[0margs\u001B[0m\u001B[1;33m,\u001B[0m \u001B[1;33m**\u001B[0m\u001B[0mkwargs\u001B[0m\u001B[1;33m)\u001B[0m\u001B[1;33m\u001B[0m\u001B[1;33m\u001B[0m\u001B[0m\n\u001B[0m\u001B[0;32m     94\u001B[0m             \u001B[1;32mexcept\u001B[0m \u001B[0mValueError\u001B[0m \u001B[1;32mas\u001B[0m \u001B[0me\u001B[0m\u001B[1;33m:\u001B[0m\u001B[1;33m\u001B[0m\u001B[1;33m\u001B[0m\u001B[0m\n\u001B[0;32m     95\u001B[0m                 \u001B[1;31m# we want to transform an object array\u001B[0m\u001B[1;33m\u001B[0m\u001B[1;33m\u001B[0m\u001B[1;33m\u001B[0m\u001B[0m\n",
      "\u001B[1;32mc:\\users\\xiao_meng\\appdata\\local\\programs\\python\\python38\\lib\\site-packages\\pandas\\core\\nanops.py\u001B[0m in \u001B[0;36mf\u001B[1;34m(values, axis, skipna, **kwds)\u001B[0m\n\u001B[0;32m    153\u001B[0m                     \u001B[0mresult\u001B[0m \u001B[1;33m=\u001B[0m \u001B[0malt\u001B[0m\u001B[1;33m(\u001B[0m\u001B[0mvalues\u001B[0m\u001B[1;33m,\u001B[0m \u001B[0maxis\u001B[0m\u001B[1;33m=\u001B[0m\u001B[0maxis\u001B[0m\u001B[1;33m,\u001B[0m \u001B[0mskipna\u001B[0m\u001B[1;33m=\u001B[0m\u001B[0mskipna\u001B[0m\u001B[1;33m,\u001B[0m \u001B[1;33m**\u001B[0m\u001B[0mkwds\u001B[0m\u001B[1;33m)\u001B[0m\u001B[1;33m\u001B[0m\u001B[1;33m\u001B[0m\u001B[0m\n\u001B[0;32m    154\u001B[0m             \u001B[1;32melse\u001B[0m\u001B[1;33m:\u001B[0m\u001B[1;33m\u001B[0m\u001B[1;33m\u001B[0m\u001B[0m\n\u001B[1;32m--> 155\u001B[1;33m                 \u001B[0mresult\u001B[0m \u001B[1;33m=\u001B[0m \u001B[0malt\u001B[0m\u001B[1;33m(\u001B[0m\u001B[0mvalues\u001B[0m\u001B[1;33m,\u001B[0m \u001B[0maxis\u001B[0m\u001B[1;33m=\u001B[0m\u001B[0maxis\u001B[0m\u001B[1;33m,\u001B[0m \u001B[0mskipna\u001B[0m\u001B[1;33m=\u001B[0m\u001B[0mskipna\u001B[0m\u001B[1;33m,\u001B[0m \u001B[1;33m**\u001B[0m\u001B[0mkwds\u001B[0m\u001B[1;33m)\u001B[0m\u001B[1;33m\u001B[0m\u001B[1;33m\u001B[0m\u001B[0m\n\u001B[0m\u001B[0;32m    156\u001B[0m \u001B[1;33m\u001B[0m\u001B[0m\n\u001B[0;32m    157\u001B[0m             \u001B[1;32mreturn\u001B[0m \u001B[0mresult\u001B[0m\u001B[1;33m\u001B[0m\u001B[1;33m\u001B[0m\u001B[0m\n",
      "\u001B[1;32mc:\\users\\xiao_meng\\appdata\\local\\programs\\python\\python38\\lib\\site-packages\\pandas\\core\\nanops.py\u001B[0m in \u001B[0;36mnew_func\u001B[1;34m(values, axis, skipna, mask, **kwargs)\u001B[0m\n\u001B[0;32m    408\u001B[0m             \u001B[0mmask\u001B[0m \u001B[1;33m=\u001B[0m \u001B[0misna\u001B[0m\u001B[1;33m(\u001B[0m\u001B[0mvalues\u001B[0m\u001B[1;33m)\u001B[0m\u001B[1;33m\u001B[0m\u001B[1;33m\u001B[0m\u001B[0m\n\u001B[0;32m    409\u001B[0m \u001B[1;33m\u001B[0m\u001B[0m\n\u001B[1;32m--> 410\u001B[1;33m         \u001B[0mresult\u001B[0m \u001B[1;33m=\u001B[0m \u001B[0mfunc\u001B[0m\u001B[1;33m(\u001B[0m\u001B[0mvalues\u001B[0m\u001B[1;33m,\u001B[0m \u001B[0maxis\u001B[0m\u001B[1;33m=\u001B[0m\u001B[0maxis\u001B[0m\u001B[1;33m,\u001B[0m \u001B[0mskipna\u001B[0m\u001B[1;33m=\u001B[0m\u001B[0mskipna\u001B[0m\u001B[1;33m,\u001B[0m \u001B[0mmask\u001B[0m\u001B[1;33m=\u001B[0m\u001B[0mmask\u001B[0m\u001B[1;33m,\u001B[0m \u001B[1;33m**\u001B[0m\u001B[0mkwargs\u001B[0m\u001B[1;33m)\u001B[0m\u001B[1;33m\u001B[0m\u001B[1;33m\u001B[0m\u001B[0m\n\u001B[0m\u001B[0;32m    411\u001B[0m \u001B[1;33m\u001B[0m\u001B[0m\n\u001B[0;32m    412\u001B[0m         \u001B[1;32mif\u001B[0m \u001B[0mdatetimelike\u001B[0m\u001B[1;33m:\u001B[0m\u001B[1;33m\u001B[0m\u001B[1;33m\u001B[0m\u001B[0m\n",
      "\u001B[1;32mc:\\users\\xiao_meng\\appdata\\local\\programs\\python\\python38\\lib\\site-packages\\pandas\\core\\nanops.py\u001B[0m in \u001B[0;36mnanmean\u001B[1;34m(values, axis, skipna, mask)\u001B[0m\n\u001B[0;32m    663\u001B[0m \u001B[1;33m\u001B[0m\u001B[0m\n\u001B[0;32m    664\u001B[0m     \u001B[0mcount\u001B[0m \u001B[1;33m=\u001B[0m \u001B[0m_get_counts\u001B[0m\u001B[1;33m(\u001B[0m\u001B[0mvalues\u001B[0m\u001B[1;33m.\u001B[0m\u001B[0mshape\u001B[0m\u001B[1;33m,\u001B[0m \u001B[0mmask\u001B[0m\u001B[1;33m,\u001B[0m \u001B[0maxis\u001B[0m\u001B[1;33m,\u001B[0m \u001B[0mdtype\u001B[0m\u001B[1;33m=\u001B[0m\u001B[0mdtype_count\u001B[0m\u001B[1;33m)\u001B[0m\u001B[1;33m\u001B[0m\u001B[1;33m\u001B[0m\u001B[0m\n\u001B[1;32m--> 665\u001B[1;33m     \u001B[0mthe_sum\u001B[0m \u001B[1;33m=\u001B[0m \u001B[0m_ensure_numeric\u001B[0m\u001B[1;33m(\u001B[0m\u001B[0mvalues\u001B[0m\u001B[1;33m.\u001B[0m\u001B[0msum\u001B[0m\u001B[1;33m(\u001B[0m\u001B[0maxis\u001B[0m\u001B[1;33m,\u001B[0m \u001B[0mdtype\u001B[0m\u001B[1;33m=\u001B[0m\u001B[0mdtype_sum\u001B[0m\u001B[1;33m)\u001B[0m\u001B[1;33m)\u001B[0m\u001B[1;33m\u001B[0m\u001B[1;33m\u001B[0m\u001B[0m\n\u001B[0m\u001B[0;32m    666\u001B[0m \u001B[1;33m\u001B[0m\u001B[0m\n\u001B[0;32m    667\u001B[0m     \u001B[1;32mif\u001B[0m \u001B[0maxis\u001B[0m \u001B[1;32mis\u001B[0m \u001B[1;32mnot\u001B[0m \u001B[1;32mNone\u001B[0m \u001B[1;32mand\u001B[0m \u001B[0mgetattr\u001B[0m\u001B[1;33m(\u001B[0m\u001B[0mthe_sum\u001B[0m\u001B[1;33m,\u001B[0m \u001B[1;34m\"ndim\"\u001B[0m\u001B[1;33m,\u001B[0m \u001B[1;32mFalse\u001B[0m\u001B[1;33m)\u001B[0m\u001B[1;33m:\u001B[0m\u001B[1;33m\u001B[0m\u001B[1;33m\u001B[0m\u001B[0m\n",
      "\u001B[1;31mKeyboardInterrupt\u001B[0m: "
     ]
    }
   ],
   "source": [
    "from shared_code.utils import *\n",
    "\n",
    "# The features to examine\n",
    "delay_field = ['DepDelay', 'ArrDelay']\n",
    "\n",
    "for feature in delay_field:\n",
    "\n",
    "    # plot the distribution\n",
    "    show_distribution(df_flights[feature])\n",
    "\n",
    "    # exclude outliers\n",
    "    df_flights = trim_outliers_minimum(df_flights, feature, 0.01)\n",
    "    df_flights = trim_outliers_maximum(df_flights, feature, 0.90)\n",
    "\n",
    "    # plot the distribution without outliers\n",
    "    show_distribution(df_flights[feature])\n",
    "\n",
    "    # plot the density functions\n",
    "    show_density(df_flights[feature])"
   ],
   "metadata": {
    "collapsed": false,
    "pycharm": {
     "name": "#%%\n"
    }
   }
  },
  {
   "cell_type": "markdown",
   "source": [
    "The density distribution of departure delay is right skewed. After trimming the outliers, the range of departure delay\n",
    "time went from 11 minutes early to 36 minutes delayed. Most of the flights depart between 1 minute and 3 minutes\n",
    "earlier. Some long delays such as 36 minutes makes the density distribution a long tail to the right, thereby pulling the\n",
    "delay to an average of 1.49 minutes.\n",
    "\n",
    "Delay in arrival time is the opposite of departure. Most flights arrive on time. There are some very fast flight\n",
    "which arriving 32 minutes earlier makes the average arrival time 5.68 minutes earlier."
   ],
   "metadata": {
    "collapsed": false,
    "pycharm": {
     "name": "#%% md\n"
    }
   }
  },
  {
   "cell_type": "markdown",
   "source": [
    "## Explore the data\n",
    "\n",
    "2. Explore the cleaned data.\n",
    "    * View summary statistics for the numeric fields in the dataset.\n",
    "    * Determine the distribution of the DepDelay and ArrDelay columns.\n",
    "    * Use statistics, aggregate functions, and visualizations to answer the following questions:\n",
    "        * What are the average (mean) departure and arrival delays?\n",
    "        * How do the carriers compare in terms of arrival delay performance?\n",
    "        * Is there a noticable difference in arrival delays for different days of the week?\n",
    "        * Which departure airport has the highest average departure delay?\n",
    "        * Do late departures tend to result in longer arrival delays than on-time departures?\n",
    "        * Which route (from origin airport to destination airport) has the most late arrivals?\n",
    "        * Which route has the highest average arrival delay?\n",
    "        * Add markdown and code cells as required to create your solution."
   ],
   "metadata": {
    "collapsed": false,
    "pycharm": {
     "name": "#%% md\n"
    }
   }
  },
  {
   "cell_type": "code",
   "execution_count": null,
   "outputs": [],
   "source": [
    "df_flights.describe()"
   ],
   "metadata": {
    "collapsed": false,
    "pycharm": {
     "name": "#%%\n",
     "is_executing": true
    }
   }
  },
  {
   "cell_type": "markdown",
   "source": [
    "### What are the average (mean) departure and arrival delays?\n",
    "The average departure delay is 0.13 minutes earlier. The average arrival delay is 5.68 minutes earlier."
   ],
   "metadata": {
    "collapsed": false,
    "pycharm": {
     "name": "#%% md\n"
    }
   }
  },
  {
   "cell_type": "code",
   "execution_count": null,
   "outputs": [],
   "source": [
    "df_flights[delay_field].mean()\n"
   ],
   "metadata": {
    "collapsed": false,
    "pycharm": {
     "name": "#%%\n",
     "is_executing": true
    }
   }
  },
  {
   "cell_type": "markdown",
   "source": [
    "### How do the carriers compare in terms of arrival delay performance?\n",
    "\n",
    "There are 6 airlines have departure delays before. They are AA, F9, FL, UA, VX and WN. The remaining airlines performed well.\n",
    "The average departure delay of all the airlines are below 0. That means the average level of all the airlines is to take off on time.\n",
    "WN has a highest departure delay.\n",
    "\n",
    "The arrival delay happened on most of the airlines. Except for 9E, DL, EV and UA, they haven't any arrival delay so far.\n",
    "The average level of all the airlines is to arrive on time."
   ],
   "metadata": {
    "collapsed": false,
    "pycharm": {
     "name": "#%% md\n"
    }
   }
  },
  {
   "cell_type": "code",
   "execution_count": null,
   "outputs": [],
   "source": [
    "for feature in delay_field:\n",
    "    df_flights.boxplot(feature, by='Carrier', figsize=(10, 8))"
   ],
   "metadata": {
    "collapsed": false,
    "pycharm": {
     "name": "#%%\n",
     "is_executing": true
    }
   }
  },
  {
   "cell_type": "markdown",
   "source": [
    "### Is there a noticable difference in arrival delays for different days of the week?\n",
    "\n",
    "There is on definitely differences among days of the week on average level of departure delay. It seems that depareture\n",
    "delay are more likely to occur on Monday, Thursday, and Sunday.\n",
    "\n",
    "The differences in arrival delay in a week is not obvious. Saturday might have all the flights arrive on time."
   ],
   "metadata": {
    "collapsed": false,
    "pycharm": {
     "name": "#%% md\n"
    }
   }
  },
  {
   "cell_type": "code",
   "execution_count": null,
   "outputs": [],
   "source": [
    "for feature in delay_field:\n",
    "    df_flights.boxplot(feature, by='DayOfWeek', figsize=(10, 8))"
   ],
   "metadata": {
    "collapsed": false,
    "pycharm": {
     "name": "#%%\n",
     "is_executing": true
    }
   }
  },
  {
   "cell_type": "markdown",
   "source": [
    "Which departure airport has the highest average departure delay?\n",
    "\n",
    "Chicago Midway International airport has the highest average departure delay."
   ],
   "metadata": {
    "collapsed": false,
    "pycharm": {
     "name": "#%% md\n"
    }
   }
  },
  {
   "cell_type": "code",
   "execution_count": null,
   "outputs": [],
   "source": [
    "# departure delay\n",
    "airport_average_delay = df_flights.groupby('OriginAirportName')['DepDelay'].mean().sort_values(ascending=False)\n",
    "\n",
    "# plot departure delay group by airport name\n",
    "fig = plt.figure(figsize=(10, 20))\n",
    "\n",
    "plt.bar(x=airport_average_delay.index, height=airport_average_delay.values, color='green')\n",
    "\n",
    "plt.title('Departure Delay of Each Airport')\n",
    "plt.xlabel('Airports')\n",
    "plt.ylabel('Departure Delay')\n",
    "plt.xticks(rotation=90)\n",
    "\n",
    "plt.show()"
   ],
   "metadata": {
    "collapsed": false,
    "pycharm": {
     "name": "#%%\n",
     "is_executing": true
    }
   }
  },
  {
   "cell_type": "markdown",
   "source": [
    "Do late departures tend to result in longer arrival delays than on-time departures?\n",
    "\n",
    "From the boxplot, it is obvious that the flight with a departure delay have a higher possibility of arrival delay."
   ],
   "metadata": {
    "collapsed": false,
    "pycharm": {
     "name": "#%% md\n"
    }
   }
  },
  {
   "cell_type": "code",
   "execution_count": null,
   "outputs": [],
   "source": [
    "# identify is delay or not\n",
    "df_flights['is_delay'] = df_flights['DepDelay'] > 0\n",
    "\n",
    "# plot arrival delays group by is_delay\n",
    "df_flights.boxplot('ArrDelay', by='is_delay', figsize=(10, 8))"
   ],
   "metadata": {
    "collapsed": false,
    "pycharm": {
     "name": "#%%\n",
     "is_executing": true
    }
   }
  },
  {
   "cell_type": "markdown",
   "source": [
    "Which route (from origin airport to destination airport) has the most late arrivals?"
   ],
   "metadata": {
    "collapsed": false,
    "pycharm": {
     "name": "#%% md\n"
    }
   }
  },
  {
   "cell_type": "code",
   "execution_count": null,
   "outputs": [],
   "source": [
    "# add a route columns\n",
    "df_flights['route'] = df_flights['OriginAirportName'] + ' -> ' + df_flights['DestAirportName']\n",
    "\n",
    "# get route flight time\n",
    "df_flights.groupby('route')['ArrDel15'].sum().sort_values(ascending=False)"
   ],
   "metadata": {
    "collapsed": false,
    "pycharm": {
     "name": "#%%\n",
     "is_executing": true
    }
   }
  },
  {
   "cell_type": "markdown",
   "source": [
    "Which route has the highest average arrival delay?"
   ],
   "metadata": {
    "collapsed": false
   }
  },
  {
   "cell_type": "code",
   "execution_count": null,
   "outputs": [],
   "source": [
    "# get route flight time\n",
    "df_flights.groupby('route')['ArrDelay'].mean().sort_values(ascending=False)"
   ],
   "metadata": {
    "collapsed": false,
    "pycharm": {
     "name": "#%%\n",
     "is_executing": true
    }
   }
  }
 ],
 "metadata": {
  "kernelspec": {
   "display_name": "Python 3",
   "language": "python",
   "name": "python3"
  },
  "language_info": {
   "codemirror_mode": {
    "name": "ipython",
    "version": 2
   },
   "file_extension": ".py",
   "mimetype": "text/x-python",
   "name": "python",
   "nbconvert_exporter": "python",
   "pygments_lexer": "ipython2",
   "version": "2.7.6"
  }
 },
 "nbformat": 4,
 "nbformat_minor": 0
}